{
  "nbformat": 4,
  "nbformat_minor": 0,
  "metadata": {
    "colab": {
      "name": "Untitled1.ipynb",
      "version": "0.3.2",
      "provenance": [],
      "collapsed_sections": [],
      "include_colab_link": true
    },
    "kernelspec": {
      "name": "python3",
      "display_name": "Python 3"
    },
    "accelerator": "GPU"
  },
  "cells": [
    {
      "cell_type": "markdown",
      "metadata": {
        "id": "view-in-github",
        "colab_type": "text"
      },
      "source": [
        "[View in Colaboratory](https://colab.research.google.com/github/Said113/colabgoogle/blob/master/test1.ipynb)"
      ]
    },
    {
      "metadata": {
        "id": "-4gukK21Mlv6",
        "colab_type": "code",
        "colab": {
          "base_uri": "https://localhost:8080/",
          "height": 363
        },
        "outputId": "77a27284-7327-460b-8426-6806ec3ccf84"
      },
      "cell_type": "code",
      "source": [
        "import numpy as np\n",
        "import matplotlib.pyplot as plt\n",
        "\n",
        "\n",
        "x=np.array([1,2,3,4])\n",
        "y=np.array([5,6,7,8])\n",
        "ty=plt.hist(x,y)\n",
        "print(ty)\n"
      ],
      "execution_count": 23,
      "outputs": [
        {
          "output_type": "stream",
          "text": [
            "(array([0., 0., 0.]), array([5, 6, 7, 8]), <a list of 3 Patch objects>)\n"
          ],
          "name": "stdout"
        },
        {
          "output_type": "display_data",
          "data": {
            "image/png": "[encoded data removed]",
            "text/plain": [
              "<matplotlib.figure.Figure at 0x7f57d929d5f8>"
            ]
          },
          "metadata": {
            "tags": []
          }
        }
      ]
    }
  ]
}
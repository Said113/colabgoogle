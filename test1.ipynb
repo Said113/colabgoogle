{
  "nbformat": 4,
  "nbformat_minor": 0,
  "metadata": {
    "colab": {
      "name": "Untitled1.ipynb",
      "version": "0.3.2",
      "provenance": [],
      "collapsed_sections": [],
      "include_colab_link": true
    },
    "kernelspec": {
      "name": "python3",
      "display_name": "Python 3"
    }
  },
  "cells": [
    {
      "cell_type": "markdown",
      "metadata": {
        "id": "view-in-github",
        "colab_type": "text"
      },
      "source": [
        "<a href=\"https://colab.research.google.com/github/Said113/colabgoogle/blob/master/test1.ipynb\" target=\"_parent\"><img src=\"https://colab.research.google.com/assets/colab-badge.svg\" alt=\"Open In Colab\"/></a>"
      ]
    },
    {
      "metadata": {
        "id": "WTN_hZy2aipE",
        "colab_type": "code",
        "colab": {}
      },
      "cell_type": "code",
      "source": [
        "#@title\n",
        "import numpy as np\n",
        "from matplotlib import pyplot as plt\n",
        "import skimage\n",
        "\n",
        "#this command to upgrade numpy to the last version\n",
        "# you must put ! \n",
        "!pip install numpy --upgrade \n",
        "print(np.version.version) #here print the version of numpy\n",
        "#you can print(help(np.version)) to see the full info \n",
        "\n",
        "!pip install scikit-image --upgrade # here you can upgrade all of tools like(numpy,matplotlib,scipy.....)\n",
        "print(skimage.__version__)\n",
        "#!pip install skimage --upgrade"
      ],
      "execution_count": 0,
      "outputs": []
    },
    {
      "metadata": {
        "id": "hoIBVRrdciGx",
        "colab_type": "code",
        "colab": {}
      },
      "cell_type": "code",
      "source": [
        "#this to make sure that all matplotlib plots is run on this path (\"jupyter notbooke\")\n",
        "%matplotlib inline "
      ],
      "execution_count": 0,
      "outputs": []
    },
    {
      "metadata": {
        "id": "-4gukK21Mlv6",
        "colab_type": "code",
        "cellView": "both",
        "outputId": "b74048c6-636d-4c19-f34d-9802ecd3899f",
        "colab": {
          "base_uri": "https://localhost:8080/",
          "height": 347
        }
      },
      "cell_type": "code",
      "source": [
        "x=np.arange(50)\n",
        "y=np.arange(50,150,2).reshape(50)\n",
        "plt.scatter(x,y, color=\"red\",s=30, label='years',marker=\"o\")\n",
        "plt.legend()\n",
        "plt.show()\n"
      ],
      "execution_count": 3,
      "outputs": [
        {
          "output_type": "display_data",
          "data": {
            "image/png": "[encoded data removed]",
            "text/plain": [
              "<matplotlib.figure.Figure at 0x7f54e155b710>"
            ]
          },
          "metadata": {
            "tags": []
          }
        }
      ]
    },
    {
      "metadata": {
        "id": "vxZ9D1RPx49Z",
        "colab_type": "code",
        "colab": {}
      },
      "cell_type": "code",
      "source": [
        ""
      ],
      "execution_count": 0,
      "outputs": []
    }
  ]
}
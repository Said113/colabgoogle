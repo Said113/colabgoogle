{
 "cells": [
  {
   "cell_type": "markdown",
   "metadata": {
    "collapsed": false,
    "deletable": true,
    "editable": true,
    "slideshow": {
     "slide_type": "slide"
    }
   },
   "source": [
    "# Python for Beginners"
   ]
  },
  {
   "cell_type": "markdown",
   "metadata": {
    "collapsed": false,
    "deletable": true,
    "editable": true
   },
   "source": [
    "## Core Python Language"
   ]
  },
  {
   "cell_type": "markdown",
   "metadata": {
    "collapsed": true,
    "deletable": true,
    "editable": true,
    "slideshow": {
     "slide_type": "notes"
    }
   },
   "source": [
    "### 1- Lexical Structure\n",
    "\n",
    "     - Lines and Indentation\n",
    "     - Keywords\n",
    "     - Statements"
   ]
  },
  {
   "cell_type": "markdown",
   "metadata": {
    "deletable": true,
    "editable": true
   },
   "source": [
    "### 2- Data Types\n",
    "\n",
    "#### Variables\n",
    "In Python, there are no “declarations.” The existence of a variable begins with a statement that binds\n",
    "the variable (in other words, sets a name to hold a reference to some object).\n",
    "\n",
    " * Numbers     \n",
    " * Strings\n",
    " * Tuples\n",
    " * Lists\n",
    " * Sets\n",
    " * Dictionaries\n",
    "\n",
    "#### Notes:\n",
    " * Iterables\n",
    " * immutable and mutable (notimmutable) objects"
   ]
  },
  {
   "cell_type": "markdown",
   "metadata": {
    "deletable": true,
    "editable": true
   },
   "source": [
    "### 3- Numeric Operations\n",
    " * Division\n",
    " * Exponentiation\n",
    " * Comparisons"
   ]
  },
  {
   "cell_type": "markdown",
   "metadata": {
    "deletable": true,
    "editable": true
   },
   "source": [
    "### 4- Sequence Operations\n",
    "#### Sequences in General\n",
    "Sequences are ordered containers with items that are accessible by indexing and slicing\n",
    "\n",
    "* Concatenation and repetition\n",
    "* Membership testing\n",
    "* Indexing a sequence\n",
    "* Slicing a sequence"
   ]
  },
  {
   "cell_type": "markdown",
   "metadata": {
    "deletable": true,
    "editable": true
   },
   "source": [
    "### 5-methods for (str,tuple,list,dict)"
   ]
  },
  {
   "cell_type": "markdown",
   "metadata": {
    "deletable": true,
    "editable": true
   },
   "source": [
    "### 6- Control Flow Statements\n",
    "A program’s control flow is the order in which the program’s code executes. The control flow of a Python program depends on conditional statements, loops, and function calls.\n",
    "#### - The if Statement"
   ]
  },
  {
   "cell_type": "raw",
   "metadata": {
    "deletable": true,
    "editable": true
   },
   "source": [
    "if expression:\n",
    "----statement(s)\n",
    "elif expression:\n",
    "----statement(s)\n",
    "else:\n",
    "----statement(s)"
   ]
  },
  {
   "cell_type": "markdown",
   "metadata": {
    "deletable": true,
    "editable": true
   },
   "source": [
    "#### - The while Statement"
   ]
  },
  {
   "cell_type": "raw",
   "metadata": {
    "deletable": true,
    "editable": true
   },
   "source": [
    "while expression:\n",
    "----statement(s)"
   ]
  },
  {
   "cell_type": "markdown",
   "metadata": {
    "deletable": true,
    "editable": true
   },
   "source": [
    "#### - The for Statement"
   ]
  },
  {
   "cell_type": "raw",
   "metadata": {
    "deletable": true,
    "editable": true
   },
   "source": [
    "for target in iterable:\n",
    "----statement(s)"
   ]
  },
  {
   "cell_type": "markdown",
   "metadata": {
    "deletable": true,
    "editable": true
   },
   "source": [
    "### 7- Functions\n",
    "Most statements in a typical Python program are part of functions.\n",
    "#### - The def Statement\n",
    "#### -  Parameters\n",
    "#### - The return Statement\n",
    "#### - Calling Functions"
   ]
  }
 ],
 "metadata": {
  "kernelspec": {
   "display_name": "Python 3",
   "language": "python",
   "name": "python3"
  },
  "language_info": {
   "codemirror_mode": {
    "name": "ipython",
    "version": 3
   },
   "file_extension": ".py",
   "mimetype": "text/x-python",
   "name": "python",
   "nbconvert_exporter": "python",
   "pygments_lexer": "ipython3",
   "version": "3.5.2"
  }
 },
 "nbformat": 4,
 "nbformat_minor": 2
}
